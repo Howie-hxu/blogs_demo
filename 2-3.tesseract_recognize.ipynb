{
 "cells": [
  {
   "cell_type": "code",
   "execution_count": null,
   "metadata": {
    "collapsed": true
   },
   "outputs": [],
   "source": [
    "import pytesseract\n",
    "import os\n",
    "import random\n",
    "import shutil\n",
    "from tqdm import tqdm\n",
    "from PIL import Image"
   ]
  },
  {
   "cell_type": "code",
   "execution_count": null,
   "metadata": {
    "collapsed": true
   },
   "outputs": [],
   "source": [
    "def convertToBinary(img):\n",
    "    img = img.convert(\"RGB\")\n",
    "    pixdata = img.load()\n",
    "    pixelCount = [ 0 for i in range(256)];\n",
    "    pixelPro = [ 0 for i in range(256)];\n",
    "    \n",
    "    for y in range(img.size[1]):\n",
    "        for x in range(img.size[0]):\n",
    "            red = pixdata[x, y][0] \n",
    "            green = pixdata[x, y][1]\n",
    "            blue = pixdata[x, y][2]\n",
    "            \n",
    "            grey = (int)(red * 0.299 + green * 0.587 + blue * 0.114 + 0.5);\n",
    "            pixelCount[grey] = pixelCount[grey]+1\n",
    "            pixdata[x, y] = (grey, grey, grey, 255)\n",
    "\n",
    "    for i in range(256):\n",
    "        pixelPro[i] = pixelCount[i] * 1.0 / (img.size[1] * img.size[0])\n",
    "        \n",
    "    w0 , w1, u0tmp, u1tmp, u0, u1, deltaTmp, deltaMax,threshold = [0,0,0,0,0,0,0,0,127]\n",
    "    for i in range(256):\n",
    "        w0 = w1 = u0tmp = u1tmp = u0 = u1 = deltaTmp = 0 \n",
    "        for j in range(256):\n",
    "            if(j <= i): \n",
    "                w0 = w0 + pixelPro[j]\n",
    "                u0tmp = u0tmp + j * pixelPro[j]\n",
    "            else:\n",
    "                w1 = w1 + pixelPro[j];  \n",
    "                u1tmp = u1tmp + j * pixelPro[j]\n",
    "\n",
    "        if w0 == 0:\n",
    "            continue\n",
    "        if w1 == 0:\n",
    "            break\n",
    "        u0 = u0tmp / w0\n",
    "        u1 = u1tmp / w1\n",
    "        deltaTmp = (float)(w0 *w1* pow((u0 - u1), 2))\n",
    "        if(deltaTmp > deltaMax):\n",
    "            deltaMax = deltaTmp\n",
    "            threshold = i;  \n",
    "    for y in range(img.size[1]):\n",
    "        for x in range(img.size[0]):\n",
    "            if pixdata[x, y][0] <= threshold:\n",
    "                pixdata[x, y] = (255, 255, 255, 255)\n",
    "            else:\n",
    "                pixdata[x, y] = (0, 0, 0, 255)\n",
    "    return img"
   ]
  },
  {
   "cell_type": "code",
   "execution_count": null,
   "metadata": {
    "collapsed": true
   },
   "outputs": [],
   "source": [
    "def useTesseractToReg(input_path,output_path):\n",
    "    if not os.path.exists(output_path):\n",
    "        os.mkdir(output_path)\n",
    "    for file in tqdm(os.listdir(input_path)):\n",
    "        recoginze_digits = ''\n",
    "        img = Image.open(os.path.join(input_path,file))\n",
    "        img = img.resize(size=(28,28))\n",
    "        \n",
    "        # 2. the first recognize \n",
    "        first_recognize = pytesseract.image_to_string(img,config=\"-psm 7 digits\")\n",
    "\n",
    "        for digit in first_recognize:\n",
    "            if digit >= '0' and digit <= '9':\n",
    "                recoginze_digits = recoginze_digits + digit\n",
    "            else:\n",
    "                recoginze_digits='unrecognize'\n",
    "                break\n",
    "        \n",
    "        #if the recognize is unknown or unrecognize , just skip this file\n",
    "        if recoginze_digits == '' or recoginze_digits == 'unrecognize':\n",
    "            continue\n",
    "            \n",
    "        # 3. convert the same file to white/black and recognize again\n",
    "        img = convertToBinary(img)\n",
    "        second_recognize = pytesseract.image_to_string(img,config=\"-psm 7 digits\")\n",
    "        \n",
    "        # if the result of 1st and 2nd are the same , then we save the file\n",
    "        # into a separate folder\n",
    "        if second_recognize == first_recognize :\n",
    "            if not os.path.exists(os.path.join(output_path,second_recognize)):\n",
    "                os.mkdir(os.path.join(output_path,second_recognize))\n",
    "            if not os.path.exists(os.path.join(output_path,second_recognize,file)):\n",
    "                shutil.copy(os.path.join(input_path,file), \n",
    "                            os.path.join(output_path,second_recognize,file))"
   ]
  },
  {
   "cell_type": "code",
   "execution_count": null,
   "metadata": {
    "collapsed": true
   },
   "outputs": [],
   "source": [
    "if __name__ == '__main__':\n",
    "    input_path = './datas/'\n",
    "    output_path = './labeled/'\n",
    "    \n",
    "    # for single thread \n",
    "    useTesseractToReg(input_path,output_path)\n",
    "    \n",
    "    # for multi-thread to recognize files by folder\n",
    "    '''\n",
    "    threads = []\n",
    "    sub_dirs = os.listdir(input_dirs)\n",
    "    for sub_dir in sub_dirs:\n",
    "        threads.append(threading.Thread(target=useTesseractToReg,args=(sub_dir,output_path,)))\n",
    "\n",
    "    for t in threads:\n",
    "        t.setDaemon(True)\n",
    "        t.start()\n",
    "    '''\n"
   ]
  }
 ],
 "metadata": {
  "kernelspec": {
   "display_name": "Python 3",
   "language": "python",
   "name": "python3"
  },
  "language_info": {
   "codemirror_mode": {
    "name": "ipython",
    "version": 3
   },
   "file_extension": ".py",
   "mimetype": "text/x-python",
   "name": "python",
   "nbconvert_exporter": "python",
   "pygments_lexer": "ipython3",
   "version": "3.5.4"
  }
 },
 "nbformat": 4,
 "nbformat_minor": 2
}
